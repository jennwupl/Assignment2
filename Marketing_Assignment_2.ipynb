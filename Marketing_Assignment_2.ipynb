{
 "cells": [
  {
   "cell_type": "markdown",
   "metadata": {},
   "source": [
    "# Assignment 2<br>\n",
    "\n",
    "Jennifer Pei-Ling Wu<br>\n",
    "Shirley Xinye Gong<br>\n",
    "Tracy Yu-Tung Huang<br>\n",
    "Wei-Te Fang<br>"
   ]
  },
  {
   "cell_type": "code",
   "execution_count": 19,
   "metadata": {
    "colab": {},
    "colab_type": "code",
    "id": "2fo8corRmNqL"
   },
   "outputs": [],
   "source": [
    "import pandas as pd\n",
    "from sklearn.cluster import KMeans\n",
    "from sklearn.preprocessing import LabelEncoder\n",
    "from sklearn.preprocessing import MinMaxScaler\n",
    "import matplotlib.pyplot as plt\n",
    "from sklearn.preprocessing import OneHotEncoder\n",
    "from sklearn.model_selection import train_test_split\n",
    "from datetime import datetime as dt\n",
    "%matplotlib inline"
   ]
  },
  {
   "cell_type": "code",
   "execution_count": 23,
   "metadata": {},
   "outputs": [],
   "source": [
    "df = pd.read_csv('transactions_n100000.csv', parse_dates=['order_timestamp'])"
   ]
  },
  {
   "cell_type": "code",
   "execution_count": 24,
   "metadata": {
    "colab": {
     "base_uri": "https://localhost:8080/",
     "height": 204
    },
    "colab_type": "code",
    "id": "C-AAaNcLmfDA",
    "outputId": "72073067-bf3d-46db-dc35-4249810f8703"
   },
   "outputs": [
    {
     "data": {
      "text/html": [
       "<div>\n",
       "<style scoped>\n",
       "    .dataframe tbody tr th:only-of-type {\n",
       "        vertical-align: middle;\n",
       "    }\n",
       "\n",
       "    .dataframe tbody tr th {\n",
       "        vertical-align: top;\n",
       "    }\n",
       "\n",
       "    .dataframe thead th {\n",
       "        text-align: right;\n",
       "    }\n",
       "</style>\n",
       "<table border=\"1\" class=\"dataframe\">\n",
       "  <thead>\n",
       "    <tr style=\"text-align: right;\">\n",
       "      <th></th>\n",
       "      <th>ticket_id</th>\n",
       "      <th>order_timestamp</th>\n",
       "      <th>location</th>\n",
       "      <th>item_name</th>\n",
       "      <th>item_count</th>\n",
       "      <th>lat</th>\n",
       "      <th>long</th>\n",
       "    </tr>\n",
       "  </thead>\n",
       "  <tbody>\n",
       "    <tr>\n",
       "      <th>0</th>\n",
       "      <td>0x7901ee</td>\n",
       "      <td>2019-01-16 18:33:00</td>\n",
       "      <td>7</td>\n",
       "      <td>shake</td>\n",
       "      <td>2</td>\n",
       "      <td>41.794132</td>\n",
       "      <td>-88.010140</td>\n",
       "    </tr>\n",
       "    <tr>\n",
       "      <th>1</th>\n",
       "      <td>0x7901ee</td>\n",
       "      <td>2019-01-16 18:33:00</td>\n",
       "      <td>7</td>\n",
       "      <td>burger</td>\n",
       "      <td>2</td>\n",
       "      <td>41.794132</td>\n",
       "      <td>-88.010140</td>\n",
       "    </tr>\n",
       "    <tr>\n",
       "      <th>2</th>\n",
       "      <td>0x7901ee</td>\n",
       "      <td>2019-01-16 18:33:00</td>\n",
       "      <td>7</td>\n",
       "      <td>fries</td>\n",
       "      <td>2</td>\n",
       "      <td>41.794132</td>\n",
       "      <td>-88.010140</td>\n",
       "    </tr>\n",
       "    <tr>\n",
       "      <th>3</th>\n",
       "      <td>0x12b47f</td>\n",
       "      <td>2019-09-04 12:36:00</td>\n",
       "      <td>3</td>\n",
       "      <td>salad</td>\n",
       "      <td>1</td>\n",
       "      <td>41.884490</td>\n",
       "      <td>-87.627059</td>\n",
       "    </tr>\n",
       "    <tr>\n",
       "      <th>4</th>\n",
       "      <td>0x12b47f</td>\n",
       "      <td>2019-09-04 12:36:00</td>\n",
       "      <td>3</td>\n",
       "      <td>fries</td>\n",
       "      <td>1</td>\n",
       "      <td>41.884490</td>\n",
       "      <td>-87.627059</td>\n",
       "    </tr>\n",
       "  </tbody>\n",
       "</table>\n",
       "</div>"
      ],
      "text/plain": [
       "  ticket_id     order_timestamp  location item_name  item_count        lat  \\\n",
       "0  0x7901ee 2019-01-16 18:33:00         7     shake           2  41.794132   \n",
       "1  0x7901ee 2019-01-16 18:33:00         7    burger           2  41.794132   \n",
       "2  0x7901ee 2019-01-16 18:33:00         7     fries           2  41.794132   \n",
       "3  0x12b47f 2019-09-04 12:36:00         3     salad           1  41.884490   \n",
       "4  0x12b47f 2019-09-04 12:36:00         3     fries           1  41.884490   \n",
       "\n",
       "        long  \n",
       "0 -88.010140  \n",
       "1 -88.010140  \n",
       "2 -88.010140  \n",
       "3 -87.627059  \n",
       "4 -87.627059  "
      ]
     },
     "execution_count": 24,
     "metadata": {},
     "output_type": "execute_result"
    }
   ],
   "source": [
    "df.head()"
   ]
  },
  {
   "cell_type": "code",
   "execution_count": 25,
   "metadata": {
    "colab": {
     "base_uri": "https://localhost:8080/",
     "height": 255
    },
    "colab_type": "code",
    "id": "aZgY6WCDqGhJ",
    "outputId": "cc38d1e2-a7ec-4a08-c3bc-9a4a0484f5f8"
   },
   "outputs": [
    {
     "name": "stdout",
     "output_type": "stream",
     "text": [
      "<class 'pandas.core.frame.DataFrame'>\n",
      "RangeIndex: 260645 entries, 0 to 260644\n",
      "Data columns (total 7 columns):\n",
      "ticket_id          260645 non-null object\n",
      "order_timestamp    260645 non-null datetime64[ns]\n",
      "location           260645 non-null int64\n",
      "item_name          260645 non-null object\n",
      "item_count         260645 non-null int64\n",
      "lat                260645 non-null float64\n",
      "long               260645 non-null float64\n",
      "dtypes: datetime64[ns](1), float64(2), int64(2), object(2)\n",
      "memory usage: 13.9+ MB\n"
     ]
    }
   ],
   "source": [
    "# check to see if we need any cleaning\n",
    "df.info()"
   ]
  },
  {
   "cell_type": "code",
   "execution_count": 26,
   "metadata": {
    "colab": {},
    "colab_type": "code",
    "id": "5qE0_rSPh5o3"
   },
   "outputs": [],
   "source": [
    "# convert location into categorical\n",
    "df['location'] = df['location'].astype('str')"
   ]
  },
  {
   "cell_type": "markdown",
   "metadata": {
    "colab_type": "text",
    "id": "92pvTUdQjZFZ"
   },
   "source": [
    "**Reshape and Feature Engineering**\n",
    "\n",
    "Since we want to do customer segmentation based on purchasing behaviour, we should aggregate the orders by ticket_id. Thus, we need to reshape our data:"
   ]
  },
  {
   "cell_type": "code",
   "execution_count": 27,
   "metadata": {
    "colab": {},
    "colab_type": "code",
    "id": "aVl1_V8FjYG5"
   },
   "outputs": [],
   "source": [
    "# Reshape our data:\n",
    "\n",
    "df1 = df.pivot(index = 'ticket_id',columns ='item_name',values='item_count').fillna(0) \n",
    "merged = pd.merge(right = df1, left = df.drop_duplicates(subset=['ticket_id']),right_index=True,left_on='ticket_id',how = 'inner')\n",
    "merged.reset_index(drop=True,inplace=True) \n",
    "merged.drop(['item_name', 'item_count'],axis=1,inplace=True)"
   ]
  },
  {
   "cell_type": "code",
   "execution_count": 28,
   "metadata": {
    "colab": {
     "base_uri": "https://localhost:8080/",
     "height": 204
    },
    "colab_type": "code",
    "id": "nHpTq_JJjhCc",
    "outputId": "7b7d22fd-8769-4d9c-f4b5-8b59a7a9f8bc"
   },
   "outputs": [
    {
     "data": {
      "text/html": [
       "<div>\n",
       "<style scoped>\n",
       "    .dataframe tbody tr th:only-of-type {\n",
       "        vertical-align: middle;\n",
       "    }\n",
       "\n",
       "    .dataframe tbody tr th {\n",
       "        vertical-align: top;\n",
       "    }\n",
       "\n",
       "    .dataframe thead th {\n",
       "        text-align: right;\n",
       "    }\n",
       "</style>\n",
       "<table border=\"1\" class=\"dataframe\">\n",
       "  <thead>\n",
       "    <tr style=\"text-align: right;\">\n",
       "      <th></th>\n",
       "      <th>ticket_id</th>\n",
       "      <th>order_timestamp</th>\n",
       "      <th>location</th>\n",
       "      <th>lat</th>\n",
       "      <th>long</th>\n",
       "      <th>burger</th>\n",
       "      <th>fries</th>\n",
       "      <th>salad</th>\n",
       "      <th>shake</th>\n",
       "    </tr>\n",
       "  </thead>\n",
       "  <tbody>\n",
       "    <tr>\n",
       "      <th>0</th>\n",
       "      <td>0x7901ee</td>\n",
       "      <td>2019-01-16 18:33:00</td>\n",
       "      <td>7</td>\n",
       "      <td>41.794132</td>\n",
       "      <td>-88.010140</td>\n",
       "      <td>2.0</td>\n",
       "      <td>2.0</td>\n",
       "      <td>0.0</td>\n",
       "      <td>2.0</td>\n",
       "    </tr>\n",
       "    <tr>\n",
       "      <th>1</th>\n",
       "      <td>0x12b47f</td>\n",
       "      <td>2019-09-04 12:36:00</td>\n",
       "      <td>3</td>\n",
       "      <td>41.884490</td>\n",
       "      <td>-87.627059</td>\n",
       "      <td>0.0</td>\n",
       "      <td>1.0</td>\n",
       "      <td>1.0</td>\n",
       "      <td>0.0</td>\n",
       "    </tr>\n",
       "    <tr>\n",
       "      <th>2</th>\n",
       "      <td>0x6d6979</td>\n",
       "      <td>2019-03-18 00:27:00</td>\n",
       "      <td>6</td>\n",
       "      <td>41.784576</td>\n",
       "      <td>-87.607565</td>\n",
       "      <td>2.0</td>\n",
       "      <td>2.0</td>\n",
       "      <td>0.0</td>\n",
       "      <td>0.0</td>\n",
       "    </tr>\n",
       "    <tr>\n",
       "      <th>3</th>\n",
       "      <td>0x78dd1e</td>\n",
       "      <td>2019-09-22 00:10:00</td>\n",
       "      <td>2</td>\n",
       "      <td>42.049306</td>\n",
       "      <td>-87.677606</td>\n",
       "      <td>2.0</td>\n",
       "      <td>2.0</td>\n",
       "      <td>0.0</td>\n",
       "      <td>2.0</td>\n",
       "    </tr>\n",
       "    <tr>\n",
       "      <th>4</th>\n",
       "      <td>0x4df8ab</td>\n",
       "      <td>2019-01-17 11:35:00</td>\n",
       "      <td>8</td>\n",
       "      <td>41.894202</td>\n",
       "      <td>-87.620965</td>\n",
       "      <td>0.0</td>\n",
       "      <td>3.0</td>\n",
       "      <td>3.0</td>\n",
       "      <td>0.0</td>\n",
       "    </tr>\n",
       "  </tbody>\n",
       "</table>\n",
       "</div>"
      ],
      "text/plain": [
       "  ticket_id     order_timestamp location        lat       long  burger  fries  \\\n",
       "0  0x7901ee 2019-01-16 18:33:00        7  41.794132 -88.010140     2.0    2.0   \n",
       "1  0x12b47f 2019-09-04 12:36:00        3  41.884490 -87.627059     0.0    1.0   \n",
       "2  0x6d6979 2019-03-18 00:27:00        6  41.784576 -87.607565     2.0    2.0   \n",
       "3  0x78dd1e 2019-09-22 00:10:00        2  42.049306 -87.677606     2.0    2.0   \n",
       "4  0x4df8ab 2019-01-17 11:35:00        8  41.894202 -87.620965     0.0    3.0   \n",
       "\n",
       "   salad  shake  \n",
       "0    0.0    2.0  \n",
       "1    1.0    0.0  \n",
       "2    0.0    0.0  \n",
       "3    0.0    2.0  \n",
       "4    3.0    0.0  "
      ]
     },
     "execution_count": 28,
     "metadata": {},
     "output_type": "execute_result"
    }
   ],
   "source": [
    "# inspect the merged data\n",
    "merged.head()"
   ]
  },
  {
   "cell_type": "code",
   "execution_count": 29,
   "metadata": {
    "colab": {},
    "colab_type": "code",
    "id": "26Tz73ExjjaG"
   },
   "outputs": [],
   "source": [
    "# save id for further use\n",
    "id_col = merged['ticket_id']"
   ]
  },
  {
   "cell_type": "markdown",
   "metadata": {},
   "source": [
    "We would like to narrow the time of purchase to Day of Week and Time of Day (Hour)"
   ]
  },
  {
   "cell_type": "code",
   "execution_count": 30,
   "metadata": {
    "colab": {},
    "colab_type": "code",
    "id": "e-_2Hk9Njmba"
   },
   "outputs": [],
   "source": [
    "# Hour and day of week may be influential\n",
    "merged['order_timestamp'] = pd.to_datetime(merged['order_timestamp'], format=\"%Y/%m/%d, %H:%M:%S\")\n",
    "merged['Hour'] = merged['order_timestamp'].dt.hour\n",
    "merged['Day of Week'] = merged['order_timestamp'].dt.dayofweek"
   ]
  },
  {
   "cell_type": "code",
   "execution_count": 31,
   "metadata": {
    "colab": {},
    "colab_type": "code",
    "id": "eSxi1dTSjokw"
   },
   "outputs": [],
   "source": [
    "# clean up the dataframe and get rid of some columns \n",
    "merged.drop(['ticket_id','order_timestamp','lat','long'],axis=1,inplace=True)"
   ]
  },
  {
   "cell_type": "code",
   "execution_count": 32,
   "metadata": {
    "colab": {
     "base_uri": "https://localhost:8080/",
     "height": 204
    },
    "colab_type": "code",
    "id": "vMR_AAZGj8uE",
    "outputId": "2619061d-7c81-4cae-b979-e8b3db5c873a"
   },
   "outputs": [
    {
     "data": {
      "text/html": [
       "<div>\n",
       "<style scoped>\n",
       "    .dataframe tbody tr th:only-of-type {\n",
       "        vertical-align: middle;\n",
       "    }\n",
       "\n",
       "    .dataframe tbody tr th {\n",
       "        vertical-align: top;\n",
       "    }\n",
       "\n",
       "    .dataframe thead th {\n",
       "        text-align: right;\n",
       "    }\n",
       "</style>\n",
       "<table border=\"1\" class=\"dataframe\">\n",
       "  <thead>\n",
       "    <tr style=\"text-align: right;\">\n",
       "      <th></th>\n",
       "      <th>location</th>\n",
       "      <th>burger</th>\n",
       "      <th>fries</th>\n",
       "      <th>salad</th>\n",
       "      <th>shake</th>\n",
       "      <th>Hour</th>\n",
       "      <th>Day of Week</th>\n",
       "    </tr>\n",
       "  </thead>\n",
       "  <tbody>\n",
       "    <tr>\n",
       "      <th>0</th>\n",
       "      <td>7</td>\n",
       "      <td>2.0</td>\n",
       "      <td>2.0</td>\n",
       "      <td>0.0</td>\n",
       "      <td>2.0</td>\n",
       "      <td>18</td>\n",
       "      <td>2</td>\n",
       "    </tr>\n",
       "    <tr>\n",
       "      <th>1</th>\n",
       "      <td>3</td>\n",
       "      <td>0.0</td>\n",
       "      <td>1.0</td>\n",
       "      <td>1.0</td>\n",
       "      <td>0.0</td>\n",
       "      <td>12</td>\n",
       "      <td>2</td>\n",
       "    </tr>\n",
       "    <tr>\n",
       "      <th>2</th>\n",
       "      <td>6</td>\n",
       "      <td>2.0</td>\n",
       "      <td>2.0</td>\n",
       "      <td>0.0</td>\n",
       "      <td>0.0</td>\n",
       "      <td>0</td>\n",
       "      <td>0</td>\n",
       "    </tr>\n",
       "    <tr>\n",
       "      <th>3</th>\n",
       "      <td>2</td>\n",
       "      <td>2.0</td>\n",
       "      <td>2.0</td>\n",
       "      <td>0.0</td>\n",
       "      <td>2.0</td>\n",
       "      <td>0</td>\n",
       "      <td>6</td>\n",
       "    </tr>\n",
       "    <tr>\n",
       "      <th>4</th>\n",
       "      <td>8</td>\n",
       "      <td>0.0</td>\n",
       "      <td>3.0</td>\n",
       "      <td>3.0</td>\n",
       "      <td>0.0</td>\n",
       "      <td>11</td>\n",
       "      <td>3</td>\n",
       "    </tr>\n",
       "  </tbody>\n",
       "</table>\n",
       "</div>"
      ],
      "text/plain": [
       "  location  burger  fries  salad  shake  Hour  Day of Week\n",
       "0        7     2.0    2.0    0.0    2.0    18            2\n",
       "1        3     0.0    1.0    1.0    0.0    12            2\n",
       "2        6     2.0    2.0    0.0    0.0     0            0\n",
       "3        2     2.0    2.0    0.0    2.0     0            6\n",
       "4        8     0.0    3.0    3.0    0.0    11            3"
      ]
     },
     "execution_count": 32,
     "metadata": {},
     "output_type": "execute_result"
    }
   ],
   "source": [
    "# inspect again\n",
    "merged.head()"
   ]
  },
  {
   "cell_type": "code",
   "execution_count": 33,
   "metadata": {
    "colab": {},
    "colab_type": "code",
    "id": "tJ4jCTGFj-eP"
   },
   "outputs": [],
   "source": [
    "# change the type of hour and day of week into string for further processing \n",
    "merged['Hour'] = merged['Hour'].astype(str)\n",
    "merged['Day of Week'] = merged['Day of Week'].astype(str)"
   ]
  },
  {
   "cell_type": "markdown",
   "metadata": {},
   "source": [
    "To make further sense of our data, we changed time values to Lunch/Dinner/Late Night categories, and Day of Week to Weekend/Weekdays."
   ]
  },
  {
   "cell_type": "code",
   "execution_count": 34,
   "metadata": {
    "colab": {},
    "colab_type": "code",
    "id": "Rj29EqKvkAmO"
   },
   "outputs": [],
   "source": [
    "# create dining window labels - timeframe from visualization \n",
    "def get_dining_time(hour):\n",
    "    hour = int(hour)\n",
    "    if hour >= 1 and hour <= 15:\n",
    "        return('Lunch')\n",
    "    elif hour >= 16 and hour <= 21:\n",
    "        return('Dinner')\n",
    "    else: return(\"Late Night\")"
   ]
  },
  {
   "cell_type": "code",
   "execution_count": 35,
   "metadata": {
    "colab": {},
    "colab_type": "code",
    "id": "YUWp81nhkC9Y"
   },
   "outputs": [],
   "source": [
    "# create weekend weekday labels\n",
    "def weekday(day):\n",
    "    day = int(day)\n",
    "    if day in [5,6]:\n",
    "        return(\"Weekend\")\n",
    "    else: return(\"Weekday\")"
   ]
  },
  {
   "cell_type": "code",
   "execution_count": 36,
   "metadata": {
    "colab": {},
    "colab_type": "code",
    "id": "y12SBJbFkFZU"
   },
   "outputs": [],
   "source": [
    "# create our new columns \n",
    "merged['Meal'] = merged['Hour'].apply(get_dining_time)\n",
    "merged['Day of Week'] =merged['Day of Week'].apply(weekday)"
   ]
  },
  {
   "cell_type": "code",
   "execution_count": 37,
   "metadata": {
    "colab": {},
    "colab_type": "code",
    "id": "u5vF56h2kHP4"
   },
   "outputs": [],
   "source": [
    "# get rid of the hour column, we only need the meal col\n",
    "merged.drop('Hour',axis=1,inplace=True)"
   ]
  },
  {
   "cell_type": "code",
   "execution_count": 38,
   "metadata": {
    "colab": {
     "base_uri": "https://localhost:8080/",
     "height": 85
    },
    "colab_type": "code",
    "id": "1lX4wn_GkI8I",
    "outputId": "a7461db0-adcf-4e1a-85ae-0fd160cb3c3e"
   },
   "outputs": [
    {
     "data": {
      "text/plain": [
       "Lunch         37481\n",
       "Dinner        34032\n",
       "Late Night    28487\n",
       "Name: Meal, dtype: int64"
      ]
     },
     "execution_count": 38,
     "metadata": {},
     "output_type": "execute_result"
    }
   ],
   "source": [
    "# check out the meal column\n",
    "merged['Meal'].value_counts(dropna=False)"
   ]
  },
  {
   "cell_type": "code",
   "execution_count": 39,
   "metadata": {
    "colab": {
     "base_uri": "https://localhost:8080/",
     "height": 204
    },
    "colab_type": "code",
    "id": "vVr_ABlXRFfT",
    "outputId": "a0ca10b8-33eb-41ec-bebd-9e1f825dc995"
   },
   "outputs": [
    {
     "data": {
      "text/html": [
       "<div>\n",
       "<style scoped>\n",
       "    .dataframe tbody tr th:only-of-type {\n",
       "        vertical-align: middle;\n",
       "    }\n",
       "\n",
       "    .dataframe tbody tr th {\n",
       "        vertical-align: top;\n",
       "    }\n",
       "\n",
       "    .dataframe thead th {\n",
       "        text-align: right;\n",
       "    }\n",
       "</style>\n",
       "<table border=\"1\" class=\"dataframe\">\n",
       "  <thead>\n",
       "    <tr style=\"text-align: right;\">\n",
       "      <th></th>\n",
       "      <th>location</th>\n",
       "      <th>burger</th>\n",
       "      <th>fries</th>\n",
       "      <th>salad</th>\n",
       "      <th>shake</th>\n",
       "      <th>Day of Week</th>\n",
       "      <th>Meal</th>\n",
       "    </tr>\n",
       "  </thead>\n",
       "  <tbody>\n",
       "    <tr>\n",
       "      <th>0</th>\n",
       "      <td>7</td>\n",
       "      <td>2.0</td>\n",
       "      <td>2.0</td>\n",
       "      <td>0.0</td>\n",
       "      <td>2.0</td>\n",
       "      <td>Weekday</td>\n",
       "      <td>Dinner</td>\n",
       "    </tr>\n",
       "    <tr>\n",
       "      <th>1</th>\n",
       "      <td>3</td>\n",
       "      <td>0.0</td>\n",
       "      <td>1.0</td>\n",
       "      <td>1.0</td>\n",
       "      <td>0.0</td>\n",
       "      <td>Weekday</td>\n",
       "      <td>Lunch</td>\n",
       "    </tr>\n",
       "    <tr>\n",
       "      <th>2</th>\n",
       "      <td>6</td>\n",
       "      <td>2.0</td>\n",
       "      <td>2.0</td>\n",
       "      <td>0.0</td>\n",
       "      <td>0.0</td>\n",
       "      <td>Weekday</td>\n",
       "      <td>Late Night</td>\n",
       "    </tr>\n",
       "    <tr>\n",
       "      <th>3</th>\n",
       "      <td>2</td>\n",
       "      <td>2.0</td>\n",
       "      <td>2.0</td>\n",
       "      <td>0.0</td>\n",
       "      <td>2.0</td>\n",
       "      <td>Weekend</td>\n",
       "      <td>Late Night</td>\n",
       "    </tr>\n",
       "    <tr>\n",
       "      <th>4</th>\n",
       "      <td>8</td>\n",
       "      <td>0.0</td>\n",
       "      <td>3.0</td>\n",
       "      <td>3.0</td>\n",
       "      <td>0.0</td>\n",
       "      <td>Weekday</td>\n",
       "      <td>Lunch</td>\n",
       "    </tr>\n",
       "  </tbody>\n",
       "</table>\n",
       "</div>"
      ],
      "text/plain": [
       "  location  burger  fries  salad  shake Day of Week        Meal\n",
       "0        7     2.0    2.0    0.0    2.0     Weekday      Dinner\n",
       "1        3     0.0    1.0    1.0    0.0     Weekday       Lunch\n",
       "2        6     2.0    2.0    0.0    0.0     Weekday  Late Night\n",
       "3        2     2.0    2.0    0.0    2.0     Weekend  Late Night\n",
       "4        8     0.0    3.0    3.0    0.0     Weekday       Lunch"
      ]
     },
     "execution_count": 39,
     "metadata": {},
     "output_type": "execute_result"
    }
   ],
   "source": [
    "merged.head()"
   ]
  },
  {
   "cell_type": "markdown",
   "metadata": {},
   "source": [
    "In order to prepare our data for K-Means Clustering, we create dummy variables"
   ]
  },
  {
   "cell_type": "code",
   "execution_count": 40,
   "metadata": {
    "colab": {},
    "colab_type": "code",
    "id": "a7heX7N5kKYQ"
   },
   "outputs": [],
   "source": [
    "# transform categorical variables into dummy columns \n",
    "df_new = pd.get_dummies(merged)"
   ]
  },
  {
   "cell_type": "code",
   "execution_count": 41,
   "metadata": {
    "colab": {
     "base_uri": "https://localhost:8080/",
     "height": 241
    },
    "colab_type": "code",
    "id": "CqdVcZE0Q7uY",
    "outputId": "f27a4ec9-8c92-4c1b-a7fc-da5b47d01cf5"
   },
   "outputs": [
    {
     "data": {
      "text/html": [
       "<div>\n",
       "<style scoped>\n",
       "    .dataframe tbody tr th:only-of-type {\n",
       "        vertical-align: middle;\n",
       "    }\n",
       "\n",
       "    .dataframe tbody tr th {\n",
       "        vertical-align: top;\n",
       "    }\n",
       "\n",
       "    .dataframe thead th {\n",
       "        text-align: right;\n",
       "    }\n",
       "</style>\n",
       "<table border=\"1\" class=\"dataframe\">\n",
       "  <thead>\n",
       "    <tr style=\"text-align: right;\">\n",
       "      <th></th>\n",
       "      <th>burger</th>\n",
       "      <th>fries</th>\n",
       "      <th>salad</th>\n",
       "      <th>shake</th>\n",
       "      <th>location_1</th>\n",
       "      <th>location_2</th>\n",
       "      <th>location_3</th>\n",
       "      <th>location_4</th>\n",
       "      <th>location_5</th>\n",
       "      <th>location_6</th>\n",
       "      <th>location_7</th>\n",
       "      <th>location_8</th>\n",
       "      <th>location_9</th>\n",
       "      <th>Day of Week_Weekday</th>\n",
       "      <th>Day of Week_Weekend</th>\n",
       "      <th>Meal_Dinner</th>\n",
       "      <th>Meal_Late Night</th>\n",
       "      <th>Meal_Lunch</th>\n",
       "    </tr>\n",
       "  </thead>\n",
       "  <tbody>\n",
       "    <tr>\n",
       "      <th>0</th>\n",
       "      <td>2.0</td>\n",
       "      <td>2.0</td>\n",
       "      <td>0.0</td>\n",
       "      <td>2.0</td>\n",
       "      <td>0</td>\n",
       "      <td>0</td>\n",
       "      <td>0</td>\n",
       "      <td>0</td>\n",
       "      <td>0</td>\n",
       "      <td>0</td>\n",
       "      <td>1</td>\n",
       "      <td>0</td>\n",
       "      <td>0</td>\n",
       "      <td>1</td>\n",
       "      <td>0</td>\n",
       "      <td>1</td>\n",
       "      <td>0</td>\n",
       "      <td>0</td>\n",
       "    </tr>\n",
       "    <tr>\n",
       "      <th>1</th>\n",
       "      <td>0.0</td>\n",
       "      <td>1.0</td>\n",
       "      <td>1.0</td>\n",
       "      <td>0.0</td>\n",
       "      <td>0</td>\n",
       "      <td>0</td>\n",
       "      <td>1</td>\n",
       "      <td>0</td>\n",
       "      <td>0</td>\n",
       "      <td>0</td>\n",
       "      <td>0</td>\n",
       "      <td>0</td>\n",
       "      <td>0</td>\n",
       "      <td>1</td>\n",
       "      <td>0</td>\n",
       "      <td>0</td>\n",
       "      <td>0</td>\n",
       "      <td>1</td>\n",
       "    </tr>\n",
       "    <tr>\n",
       "      <th>2</th>\n",
       "      <td>2.0</td>\n",
       "      <td>2.0</td>\n",
       "      <td>0.0</td>\n",
       "      <td>0.0</td>\n",
       "      <td>0</td>\n",
       "      <td>0</td>\n",
       "      <td>0</td>\n",
       "      <td>0</td>\n",
       "      <td>0</td>\n",
       "      <td>1</td>\n",
       "      <td>0</td>\n",
       "      <td>0</td>\n",
       "      <td>0</td>\n",
       "      <td>1</td>\n",
       "      <td>0</td>\n",
       "      <td>0</td>\n",
       "      <td>1</td>\n",
       "      <td>0</td>\n",
       "    </tr>\n",
       "    <tr>\n",
       "      <th>3</th>\n",
       "      <td>2.0</td>\n",
       "      <td>2.0</td>\n",
       "      <td>0.0</td>\n",
       "      <td>2.0</td>\n",
       "      <td>0</td>\n",
       "      <td>1</td>\n",
       "      <td>0</td>\n",
       "      <td>0</td>\n",
       "      <td>0</td>\n",
       "      <td>0</td>\n",
       "      <td>0</td>\n",
       "      <td>0</td>\n",
       "      <td>0</td>\n",
       "      <td>0</td>\n",
       "      <td>1</td>\n",
       "      <td>0</td>\n",
       "      <td>1</td>\n",
       "      <td>0</td>\n",
       "    </tr>\n",
       "    <tr>\n",
       "      <th>4</th>\n",
       "      <td>0.0</td>\n",
       "      <td>3.0</td>\n",
       "      <td>3.0</td>\n",
       "      <td>0.0</td>\n",
       "      <td>0</td>\n",
       "      <td>0</td>\n",
       "      <td>0</td>\n",
       "      <td>0</td>\n",
       "      <td>0</td>\n",
       "      <td>0</td>\n",
       "      <td>0</td>\n",
       "      <td>1</td>\n",
       "      <td>0</td>\n",
       "      <td>1</td>\n",
       "      <td>0</td>\n",
       "      <td>0</td>\n",
       "      <td>0</td>\n",
       "      <td>1</td>\n",
       "    </tr>\n",
       "  </tbody>\n",
       "</table>\n",
       "</div>"
      ],
      "text/plain": [
       "   burger  fries  salad  shake  location_1  location_2  location_3  \\\n",
       "0     2.0    2.0    0.0    2.0           0           0           0   \n",
       "1     0.0    1.0    1.0    0.0           0           0           1   \n",
       "2     2.0    2.0    0.0    0.0           0           0           0   \n",
       "3     2.0    2.0    0.0    2.0           0           1           0   \n",
       "4     0.0    3.0    3.0    0.0           0           0           0   \n",
       "\n",
       "   location_4  location_5  location_6  location_7  location_8  location_9  \\\n",
       "0           0           0           0           1           0           0   \n",
       "1           0           0           0           0           0           0   \n",
       "2           0           0           1           0           0           0   \n",
       "3           0           0           0           0           0           0   \n",
       "4           0           0           0           0           1           0   \n",
       "\n",
       "   Day of Week_Weekday  Day of Week_Weekend  Meal_Dinner  Meal_Late Night  \\\n",
       "0                    1                    0            1                0   \n",
       "1                    1                    0            0                0   \n",
       "2                    1                    0            0                1   \n",
       "3                    0                    1            0                1   \n",
       "4                    1                    0            0                0   \n",
       "\n",
       "   Meal_Lunch  \n",
       "0           0  \n",
       "1           1  \n",
       "2           0  \n",
       "3           0  \n",
       "4           1  "
      ]
     },
     "execution_count": 41,
     "metadata": {},
     "output_type": "execute_result"
    }
   ],
   "source": [
    "df_new.head()"
   ]
  },
  {
   "cell_type": "markdown",
   "metadata": {},
   "source": [
    "In order to check the stability of our clusters, we split the dataset into two groups - train and test. We will create the unsupervised clustering algorithm using the training group."
   ]
  },
  {
   "cell_type": "code",
   "execution_count": 42,
   "metadata": {
    "colab": {},
    "colab_type": "code",
    "id": "01gxtNlHkMNU"
   },
   "outputs": [],
   "source": [
    "from sklearn.model_selection import train_test_split\n",
    "\n",
    "train, test = train_test_split(df_new, test_size=0.33, random_state=42)"
   ]
  },
  {
   "cell_type": "code",
   "execution_count": 43,
   "metadata": {
    "colab": {},
    "colab_type": "code",
    "id": "QDwfDHPokNvc"
   },
   "outputs": [],
   "source": [
    "# scale data after splitting (fit using training set)\n",
    "from sklearn.preprocessing import MinMaxScaler\n",
    "\n",
    "scaler = MinMaxScaler()\n",
    "\n",
    "X1 = scaler.fit_transform(train)\n",
    "X2 = scaler.transform(test)\n",
    "\n",
    "X = scaler.transform(df_new)"
   ]
  },
  {
   "cell_type": "markdown",
   "metadata": {
    "colab_type": "text",
    "id": "yqqnfjUskRvV"
   },
   "source": [
    "Training the model"
   ]
  },
  {
   "cell_type": "code",
   "execution_count": 25,
   "metadata": {
    "colab": {
     "base_uri": "https://localhost:8080/",
     "height": 279
    },
    "colab_type": "code",
    "id": "IrkR1xuPkQAW",
    "outputId": "41be00cf-fb6e-4149-e947-83884ad4765a"
   },
   "outputs": [
    {
     "data": {
      "image/png": "[encoded data removed]",
      "text/plain": [
       "<Figure size 432x288 with 1 Axes>"
      ]
     },
     "metadata": {
      "needs_background": "light"
     },
     "output_type": "display_data"
    }
   ],
   "source": [
    "from sklearn.cluster import KMeans\n",
    "# use the elbow method\n",
    "\n",
    "# calculate distortion for a range of number of cluster\n",
    "inertia = []\n",
    "for i in range(1, 11):\n",
    "    km = KMeans(\n",
    "        n_clusters=i, init='random',\n",
    "        n_init=10, max_iter=300,\n",
    "        tol=1e-04, random_state=0\n",
    "    )\n",
    "    km.fit(X1)\n",
    "    inertia.append(km.inertia_)\n",
    "\n",
    "# plot\n",
    "plt.plot(range(1, 11), inertia, marker='o')\n",
    "plt.xlabel('Number of clusters')\n",
    "plt.ylabel('Inertia')\n",
    "plt.show()"
   ]
  },
  {
   "cell_type": "code",
   "execution_count": 45,
   "metadata": {
    "colab": {},
    "colab_type": "code",
    "id": "nxrhpQFxkbYv"
   },
   "outputs": [],
   "source": [
    "# use our optimal k\n",
    "km = KMeans(\n",
    "    n_clusters=3, init='random',\n",
    "    n_init=10, max_iter=300, \n",
    "    tol=1e-04, random_state=0\n",
    ")\n",
    "y1 = km.fit_predict(X1)\n",
    "y2 = km.predict(X2)\n",
    "y_km = km.predict(X)"
   ]
  },
  {
   "cell_type": "code",
   "execution_count": 46,
   "metadata": {
    "colab": {},
    "colab_type": "code",
    "id": "lLdhPzMHkfMf"
   },
   "outputs": [],
   "source": [
    "# assign the split dataframes back to dataframe\n",
    "train = pd.DataFrame(train,columns=df_new.columns)\n",
    "test = pd.DataFrame(test,columns=df_new.columns)"
   ]
  },
  {
   "cell_type": "code",
   "execution_count": 47,
   "metadata": {
    "colab": {},
    "colab_type": "code",
    "id": "crS4aGaKkg_L"
   },
   "outputs": [],
   "source": [
    "\n",
    "# assign results back to the dataframes\n",
    "train['Cluster'] = y1\n",
    "test['Cluster'] = y2"
   ]
  },
  {
   "cell_type": "markdown",
   "metadata": {
    "colab_type": "text",
    "id": "apcBu3-jkmwh"
   },
   "source": [
    "### Evaluate Results\n",
    "\n",
    "Having created the clusters of both our train and test groups, we evaluate the results to evaluate if the clustering algorithm is stable, and if the two clusters created from both groups behave similarly."
   ]
  },
  {
   "cell_type": "code",
   "execution_count": 48,
   "metadata": {
    "colab": {
     "base_uri": "https://localhost:8080/",
     "height": 210
    },
    "colab_type": "code",
    "id": "UasfshnSkklj",
    "outputId": "df06519b-f076-4e9c-b68a-f6ab8ce45642"
   },
   "outputs": [
    {
     "data": {
      "text/html": [
       "<div>\n",
       "<style scoped>\n",
       "    .dataframe tbody tr th:only-of-type {\n",
       "        vertical-align: middle;\n",
       "    }\n",
       "\n",
       "    .dataframe tbody tr th {\n",
       "        vertical-align: top;\n",
       "    }\n",
       "\n",
       "    .dataframe thead th {\n",
       "        text-align: right;\n",
       "    }\n",
       "</style>\n",
       "<table border=\"1\" class=\"dataframe\">\n",
       "  <thead>\n",
       "    <tr style=\"text-align: right;\">\n",
       "      <th></th>\n",
       "      <th>burger</th>\n",
       "      <th>fries</th>\n",
       "      <th>salad</th>\n",
       "      <th>shake</th>\n",
       "      <th>location_1</th>\n",
       "      <th>location_2</th>\n",
       "      <th>location_3</th>\n",
       "      <th>location_4</th>\n",
       "      <th>location_5</th>\n",
       "      <th>location_6</th>\n",
       "      <th>location_7</th>\n",
       "      <th>location_8</th>\n",
       "      <th>location_9</th>\n",
       "      <th>Day of Week_Weekday</th>\n",
       "      <th>Day of Week_Weekend</th>\n",
       "      <th>Meal_Dinner</th>\n",
       "      <th>Meal_Late Night</th>\n",
       "      <th>Meal_Lunch</th>\n",
       "    </tr>\n",
       "    <tr>\n",
       "      <th>Cluster</th>\n",
       "      <th></th>\n",
       "      <th></th>\n",
       "      <th></th>\n",
       "      <th></th>\n",
       "      <th></th>\n",
       "      <th></th>\n",
       "      <th></th>\n",
       "      <th></th>\n",
       "      <th></th>\n",
       "      <th></th>\n",
       "      <th></th>\n",
       "      <th></th>\n",
       "      <th></th>\n",
       "      <th></th>\n",
       "      <th></th>\n",
       "      <th></th>\n",
       "      <th></th>\n",
       "      <th></th>\n",
       "    </tr>\n",
       "  </thead>\n",
       "  <tbody>\n",
       "    <tr>\n",
       "      <th>0</th>\n",
       "      <td>3.384740</td>\n",
       "      <td>3.612941</td>\n",
       "      <td>0.228201</td>\n",
       "      <td>3.202739</td>\n",
       "      <td>0.034213</td>\n",
       "      <td>0.029838</td>\n",
       "      <td>0.035525</td>\n",
       "      <td>0.260927</td>\n",
       "      <td>0.036400</td>\n",
       "      <td>0.031631</td>\n",
       "      <td>0.263114</td>\n",
       "      <td>0.043269</td>\n",
       "      <td>0.265083</td>\n",
       "      <td>0.714617</td>\n",
       "      <td>0.285383</td>\n",
       "      <td>0.999387</td>\n",
       "      <td>0.0</td>\n",
       "      <td>0.000613</td>\n",
       "    </tr>\n",
       "    <tr>\n",
       "      <th>1</th>\n",
       "      <td>0.551181</td>\n",
       "      <td>2.194623</td>\n",
       "      <td>1.643442</td>\n",
       "      <td>0.154021</td>\n",
       "      <td>0.172314</td>\n",
       "      <td>0.091704</td>\n",
       "      <td>0.174859</td>\n",
       "      <td>0.041995</td>\n",
       "      <td>0.174302</td>\n",
       "      <td>0.091426</td>\n",
       "      <td>0.039450</td>\n",
       "      <td>0.173666</td>\n",
       "      <td>0.040285</td>\n",
       "      <td>0.714587</td>\n",
       "      <td>0.285413</td>\n",
       "      <td>0.000000</td>\n",
       "      <td>0.0</td>\n",
       "      <td>1.000000</td>\n",
       "    </tr>\n",
       "    <tr>\n",
       "      <th>2</th>\n",
       "      <td>1.754961</td>\n",
       "      <td>1.818603</td>\n",
       "      <td>0.063642</td>\n",
       "      <td>0.320051</td>\n",
       "      <td>0.032005</td>\n",
       "      <td>0.394483</td>\n",
       "      <td>0.033321</td>\n",
       "      <td>0.029478</td>\n",
       "      <td>0.023267</td>\n",
       "      <td>0.393536</td>\n",
       "      <td>0.030584</td>\n",
       "      <td>0.032584</td>\n",
       "      <td>0.030742</td>\n",
       "      <td>0.712323</td>\n",
       "      <td>0.287677</td>\n",
       "      <td>0.000000</td>\n",
       "      <td>1.0</td>\n",
       "      <td>0.000000</td>\n",
       "    </tr>\n",
       "  </tbody>\n",
       "</table>\n",
       "</div>"
      ],
      "text/plain": [
       "           burger     fries     salad     shake  location_1  location_2  \\\n",
       "Cluster                                                                   \n",
       "0        3.384740  3.612941  0.228201  3.202739    0.034213    0.029838   \n",
       "1        0.551181  2.194623  1.643442  0.154021    0.172314    0.091704   \n",
       "2        1.754961  1.818603  0.063642  0.320051    0.032005    0.394483   \n",
       "\n",
       "         location_3  location_4  location_5  location_6  location_7  \\\n",
       "Cluster                                                               \n",
       "0          0.035525    0.260927    0.036400    0.031631    0.263114   \n",
       "1          0.174859    0.041995    0.174302    0.091426    0.039450   \n",
       "2          0.033321    0.029478    0.023267    0.393536    0.030584   \n",
       "\n",
       "         location_8  location_9  Day of Week_Weekday  Day of Week_Weekend  \\\n",
       "Cluster                                                                     \n",
       "0          0.043269    0.265083             0.714617             0.285383   \n",
       "1          0.173666    0.040285             0.714587             0.285413   \n",
       "2          0.032584    0.030742             0.712323             0.287677   \n",
       "\n",
       "         Meal_Dinner  Meal_Late Night  Meal_Lunch  \n",
       "Cluster                                            \n",
       "0           0.999387              0.0    0.000613  \n",
       "1           0.000000              0.0    1.000000  \n",
       "2           0.000000              1.0    0.000000  "
      ]
     },
     "execution_count": 48,
     "metadata": {},
     "output_type": "execute_result"
    }
   ],
   "source": [
    "# check out the train clusters\n",
    "\n",
    "train.groupby(by='Cluster').mean()"
   ]
  },
  {
   "cell_type": "code",
   "execution_count": 49,
   "metadata": {
    "colab": {
     "base_uri": "https://localhost:8080/",
     "height": 210
    },
    "colab_type": "code",
    "id": "bHCAFTuYkrVO",
    "outputId": "e471b6bb-eef9-49f9-e128-a6b9d8a3ec9d"
   },
   "outputs": [
    {
     "data": {
      "text/html": [
       "<div>\n",
       "<style scoped>\n",
       "    .dataframe tbody tr th:only-of-type {\n",
       "        vertical-align: middle;\n",
       "    }\n",
       "\n",
       "    .dataframe tbody tr th {\n",
       "        vertical-align: top;\n",
       "    }\n",
       "\n",
       "    .dataframe thead th {\n",
       "        text-align: right;\n",
       "    }\n",
       "</style>\n",
       "<table border=\"1\" class=\"dataframe\">\n",
       "  <thead>\n",
       "    <tr style=\"text-align: right;\">\n",
       "      <th></th>\n",
       "      <th>burger</th>\n",
       "      <th>fries</th>\n",
       "      <th>salad</th>\n",
       "      <th>shake</th>\n",
       "      <th>location_1</th>\n",
       "      <th>location_2</th>\n",
       "      <th>location_3</th>\n",
       "      <th>location_4</th>\n",
       "      <th>location_5</th>\n",
       "      <th>location_6</th>\n",
       "      <th>location_7</th>\n",
       "      <th>location_8</th>\n",
       "      <th>location_9</th>\n",
       "      <th>Day of Week_Weekday</th>\n",
       "      <th>Day of Week_Weekend</th>\n",
       "      <th>Meal_Dinner</th>\n",
       "      <th>Meal_Late Night</th>\n",
       "      <th>Meal_Lunch</th>\n",
       "    </tr>\n",
       "    <tr>\n",
       "      <th>Cluster</th>\n",
       "      <th></th>\n",
       "      <th></th>\n",
       "      <th></th>\n",
       "      <th></th>\n",
       "      <th></th>\n",
       "      <th></th>\n",
       "      <th></th>\n",
       "      <th></th>\n",
       "      <th></th>\n",
       "      <th></th>\n",
       "      <th></th>\n",
       "      <th></th>\n",
       "      <th></th>\n",
       "      <th></th>\n",
       "      <th></th>\n",
       "      <th></th>\n",
       "      <th></th>\n",
       "      <th></th>\n",
       "    </tr>\n",
       "  </thead>\n",
       "  <tbody>\n",
       "    <tr>\n",
       "      <th>0</th>\n",
       "      <td>3.382905</td>\n",
       "      <td>3.611379</td>\n",
       "      <td>0.228474</td>\n",
       "      <td>3.194980</td>\n",
       "      <td>0.034119</td>\n",
       "      <td>0.031440</td>\n",
       "      <td>0.035638</td>\n",
       "      <td>0.265452</td>\n",
       "      <td>0.03403</td>\n",
       "      <td>0.032333</td>\n",
       "      <td>0.263934</td>\n",
       "      <td>0.044748</td>\n",
       "      <td>0.258307</td>\n",
       "      <td>0.716952</td>\n",
       "      <td>0.283048</td>\n",
       "      <td>0.999375</td>\n",
       "      <td>0.0</td>\n",
       "      <td>0.000625</td>\n",
       "    </tr>\n",
       "    <tr>\n",
       "      <th>1</th>\n",
       "      <td>0.550349</td>\n",
       "      <td>2.194169</td>\n",
       "      <td>1.643820</td>\n",
       "      <td>0.159899</td>\n",
       "      <td>0.175573</td>\n",
       "      <td>0.087867</td>\n",
       "      <td>0.174517</td>\n",
       "      <td>0.037681</td>\n",
       "      <td>0.17476</td>\n",
       "      <td>0.090385</td>\n",
       "      <td>0.043446</td>\n",
       "      <td>0.175897</td>\n",
       "      <td>0.039873</td>\n",
       "      <td>0.718126</td>\n",
       "      <td>0.281874</td>\n",
       "      <td>0.000000</td>\n",
       "      <td>0.0</td>\n",
       "      <td>1.000000</td>\n",
       "    </tr>\n",
       "    <tr>\n",
       "      <th>2</th>\n",
       "      <td>1.745838</td>\n",
       "      <td>1.807587</td>\n",
       "      <td>0.061749</td>\n",
       "      <td>0.322550</td>\n",
       "      <td>0.031401</td>\n",
       "      <td>0.399895</td>\n",
       "      <td>0.034563</td>\n",
       "      <td>0.028030</td>\n",
       "      <td>0.02255</td>\n",
       "      <td>0.390622</td>\n",
       "      <td>0.028872</td>\n",
       "      <td>0.033193</td>\n",
       "      <td>0.030875</td>\n",
       "      <td>0.706849</td>\n",
       "      <td>0.293151</td>\n",
       "      <td>0.000000</td>\n",
       "      <td>1.0</td>\n",
       "      <td>0.000000</td>\n",
       "    </tr>\n",
       "  </tbody>\n",
       "</table>\n",
       "</div>"
      ],
      "text/plain": [
       "           burger     fries     salad     shake  location_1  location_2  \\\n",
       "Cluster                                                                   \n",
       "0        3.382905  3.611379  0.228474  3.194980    0.034119    0.031440   \n",
       "1        0.550349  2.194169  1.643820  0.159899    0.175573    0.087867   \n",
       "2        1.745838  1.807587  0.061749  0.322550    0.031401    0.399895   \n",
       "\n",
       "         location_3  location_4  location_5  location_6  location_7  \\\n",
       "Cluster                                                               \n",
       "0          0.035638    0.265452     0.03403    0.032333    0.263934   \n",
       "1          0.174517    0.037681     0.17476    0.090385    0.043446   \n",
       "2          0.034563    0.028030     0.02255    0.390622    0.028872   \n",
       "\n",
       "         location_8  location_9  Day of Week_Weekday  Day of Week_Weekend  \\\n",
       "Cluster                                                                     \n",
       "0          0.044748    0.258307             0.716952             0.283048   \n",
       "1          0.175897    0.039873             0.718126             0.281874   \n",
       "2          0.033193    0.030875             0.706849             0.293151   \n",
       "\n",
       "         Meal_Dinner  Meal_Late Night  Meal_Lunch  \n",
       "Cluster                                            \n",
       "0           0.999375              0.0    0.000625  \n",
       "1           0.000000              0.0    1.000000  \n",
       "2           0.000000              1.0    0.000000  "
      ]
     },
     "execution_count": 49,
     "metadata": {},
     "output_type": "execute_result"
    }
   ],
   "source": [
    "# check out the test clusters\n",
    "\n",
    "test.groupby(by='Cluster').mean()"
   ]
  },
  {
   "cell_type": "code",
   "execution_count": 50,
   "metadata": {
    "colab": {
     "base_uri": "https://localhost:8080/",
     "height": 68
    },
    "colab_type": "code",
    "id": "bKu-My1rktgl",
    "outputId": "40c7dfe2-2533-4118-83a4-d6ba56b11600"
   },
   "outputs": [
    {
     "name": "stdout",
     "output_type": "stream",
     "text": [
      "Cluster 0 is 34.11492537313433%\n",
      "Cluster 1 is 37.53134328358209%\n",
      "Cluster 2 is 28.35373134328358%\n"
     ]
    }
   ],
   "source": [
    "# check cluster proportions - train \n",
    "for i in [0,1,2]:\n",
    "    print(\"Cluster {} is {}%\".format(i,train['Cluster'].value_counts()[i]/670))"
   ]
  },
  {
   "cell_type": "code",
   "execution_count": 51,
   "metadata": {
    "colab": {
     "base_uri": "https://localhost:8080/",
     "height": 68
    },
    "colab_type": "code",
    "id": "GNkGwD99kwCP",
    "outputId": "8afd52ef-076c-4ffe-b87c-339def250b3b"
   },
   "outputs": [
    {
     "name": "stdout",
     "output_type": "stream",
     "text": [
      "Cluster 0 is 33.92727272727273%\n",
      "Cluster 1 is 37.31515151515151%\n",
      "Cluster 2 is 28.757575757575758%\n"
     ]
    }
   ],
   "source": [
    "# check cluster proportions - test\n",
    "for i in [0,1,2]:\n",
    "    print(\"Cluster {} is {}%\".format(i,test['Cluster'].value_counts()[i]/330))"
   ]
  },
  {
   "cell_type": "markdown",
   "metadata": {
    "colab_type": "text",
    "id": "CQvdvwO7kz_g"
   },
   "source": [
    "It seems like the clusters are quite stable between train and test sets."
   ]
  },
  {
   "cell_type": "code",
   "execution_count": 52,
   "metadata": {
    "colab": {
     "base_uri": "https://localhost:8080/",
     "height": 210
    },
    "colab_type": "code",
    "id": "9ldJXeoqkxjx",
    "outputId": "d977dffa-cf6f-4cd5-98bc-7e4ab1974854"
   },
   "outputs": [
    {
     "data": {
      "text/html": [
       "<div>\n",
       "<style scoped>\n",
       "    .dataframe tbody tr th:only-of-type {\n",
       "        vertical-align: middle;\n",
       "    }\n",
       "\n",
       "    .dataframe tbody tr th {\n",
       "        vertical-align: top;\n",
       "    }\n",
       "\n",
       "    .dataframe thead th {\n",
       "        text-align: right;\n",
       "    }\n",
       "</style>\n",
       "<table border=\"1\" class=\"dataframe\">\n",
       "  <thead>\n",
       "    <tr style=\"text-align: right;\">\n",
       "      <th></th>\n",
       "      <th>burger</th>\n",
       "      <th>fries</th>\n",
       "      <th>salad</th>\n",
       "      <th>shake</th>\n",
       "      <th>location_1</th>\n",
       "      <th>location_2</th>\n",
       "      <th>location_3</th>\n",
       "      <th>location_4</th>\n",
       "      <th>location_5</th>\n",
       "      <th>location_6</th>\n",
       "      <th>location_7</th>\n",
       "      <th>location_8</th>\n",
       "      <th>location_9</th>\n",
       "      <th>Day of Week_Weekday</th>\n",
       "      <th>Day of Week_Weekend</th>\n",
       "      <th>Meal_Dinner</th>\n",
       "      <th>Meal_Late Night</th>\n",
       "      <th>Meal_Lunch</th>\n",
       "    </tr>\n",
       "    <tr>\n",
       "      <th>Cluster</th>\n",
       "      <th></th>\n",
       "      <th></th>\n",
       "      <th></th>\n",
       "      <th></th>\n",
       "      <th></th>\n",
       "      <th></th>\n",
       "      <th></th>\n",
       "      <th></th>\n",
       "      <th></th>\n",
       "      <th></th>\n",
       "      <th></th>\n",
       "      <th></th>\n",
       "      <th></th>\n",
       "      <th></th>\n",
       "      <th></th>\n",
       "      <th></th>\n",
       "      <th></th>\n",
       "      <th></th>\n",
       "    </tr>\n",
       "  </thead>\n",
       "  <tbody>\n",
       "    <tr>\n",
       "      <th>0</th>\n",
       "      <td>3.384136</td>\n",
       "      <td>3.612428</td>\n",
       "      <td>0.228291</td>\n",
       "      <td>3.200188</td>\n",
       "      <td>0.034182</td>\n",
       "      <td>0.030364</td>\n",
       "      <td>0.035562</td>\n",
       "      <td>0.262414</td>\n",
       "      <td>0.035621</td>\n",
       "      <td>0.031862</td>\n",
       "      <td>0.263384</td>\n",
       "      <td>0.043755</td>\n",
       "      <td>0.262855</td>\n",
       "      <td>0.715385</td>\n",
       "      <td>0.284615</td>\n",
       "      <td>0.999383</td>\n",
       "      <td>0.0</td>\n",
       "      <td>0.000617</td>\n",
       "    </tr>\n",
       "    <tr>\n",
       "      <th>1</th>\n",
       "      <td>0.550908</td>\n",
       "      <td>2.194474</td>\n",
       "      <td>1.643566</td>\n",
       "      <td>0.155953</td>\n",
       "      <td>0.173385</td>\n",
       "      <td>0.090443</td>\n",
       "      <td>0.174746</td>\n",
       "      <td>0.040577</td>\n",
       "      <td>0.174453</td>\n",
       "      <td>0.091084</td>\n",
       "      <td>0.040763</td>\n",
       "      <td>0.174399</td>\n",
       "      <td>0.040149</td>\n",
       "      <td>0.715750</td>\n",
       "      <td>0.284250</td>\n",
       "      <td>0.000000</td>\n",
       "      <td>0.0</td>\n",
       "      <td>1.000000</td>\n",
       "    </tr>\n",
       "    <tr>\n",
       "      <th>2</th>\n",
       "      <td>1.751922</td>\n",
       "      <td>1.814933</td>\n",
       "      <td>0.063011</td>\n",
       "      <td>0.320883</td>\n",
       "      <td>0.031804</td>\n",
       "      <td>0.396286</td>\n",
       "      <td>0.033735</td>\n",
       "      <td>0.028996</td>\n",
       "      <td>0.023028</td>\n",
       "      <td>0.392565</td>\n",
       "      <td>0.030014</td>\n",
       "      <td>0.032787</td>\n",
       "      <td>0.030786</td>\n",
       "      <td>0.710500</td>\n",
       "      <td>0.289500</td>\n",
       "      <td>0.000000</td>\n",
       "      <td>1.0</td>\n",
       "      <td>0.000000</td>\n",
       "    </tr>\n",
       "  </tbody>\n",
       "</table>\n",
       "</div>"
      ],
      "text/plain": [
       "           burger     fries     salad     shake  location_1  location_2  \\\n",
       "Cluster                                                                   \n",
       "0        3.384136  3.612428  0.228291  3.200188    0.034182    0.030364   \n",
       "1        0.550908  2.194474  1.643566  0.155953    0.173385    0.090443   \n",
       "2        1.751922  1.814933  0.063011  0.320883    0.031804    0.396286   \n",
       "\n",
       "         location_3  location_4  location_5  location_6  location_7  \\\n",
       "Cluster                                                               \n",
       "0          0.035562    0.262414    0.035621    0.031862    0.263384   \n",
       "1          0.174746    0.040577    0.174453    0.091084    0.040763   \n",
       "2          0.033735    0.028996    0.023028    0.392565    0.030014   \n",
       "\n",
       "         location_8  location_9  Day of Week_Weekday  Day of Week_Weekend  \\\n",
       "Cluster                                                                     \n",
       "0          0.043755    0.262855             0.715385             0.284615   \n",
       "1          0.174399    0.040149             0.715750             0.284250   \n",
       "2          0.032787    0.030786             0.710500             0.289500   \n",
       "\n",
       "         Meal_Dinner  Meal_Late Night  Meal_Lunch  \n",
       "Cluster                                            \n",
       "0           0.999383              0.0    0.000617  \n",
       "1           0.000000              0.0    1.000000  \n",
       "2           0.000000              1.0    0.000000  "
      ]
     },
     "execution_count": 52,
     "metadata": {},
     "output_type": "execute_result"
    }
   ],
   "source": [
    "\n",
    "df_new['Cluster'] = y_km # predict on whole dataset\n",
    "\n",
    "# check out the clusters - whole dataset \n",
    "\n",
    "df_new.groupby(by='Cluster').mean()"
   ]
  },
  {
   "cell_type": "code",
   "execution_count": 53,
   "metadata": {
    "colab": {},
    "colab_type": "code",
    "id": "v9dPjkcPk2QS"
   },
   "outputs": [],
   "source": [
    "# assign ticket id back to the dataset for further visualization\n",
    "df_new = pd.concat([df_new,id_col],axis=1)"
   ]
  },
  {
   "cell_type": "code",
   "execution_count": 54,
   "metadata": {
    "colab": {},
    "colab_type": "code",
    "id": "1DyANWHzk4d-"
   },
   "outputs": [],
   "source": [
    "\n",
    "# save the result on the whole dataset to file \n",
    "df_new.to_csv('Result.csv')"
   ]
  },
  {
   "cell_type": "code",
   "execution_count": 55,
   "metadata": {
    "colab": {
     "base_uri": "https://localhost:8080/",
     "height": 241
    },
    "colab_type": "code",
    "id": "9V3_YqoYk6MI",
    "outputId": "553318df-1fb8-4a74-e42d-4d2bdb90f153"
   },
   "outputs": [
    {
     "data": {
      "text/html": [
       "<div>\n",
       "<style scoped>\n",
       "    .dataframe tbody tr th:only-of-type {\n",
       "        vertical-align: middle;\n",
       "    }\n",
       "\n",
       "    .dataframe tbody tr th {\n",
       "        vertical-align: top;\n",
       "    }\n",
       "\n",
       "    .dataframe thead th {\n",
       "        text-align: right;\n",
       "    }\n",
       "</style>\n",
       "<table border=\"1\" class=\"dataframe\">\n",
       "  <thead>\n",
       "    <tr style=\"text-align: right;\">\n",
       "      <th></th>\n",
       "      <th>burger</th>\n",
       "      <th>fries</th>\n",
       "      <th>salad</th>\n",
       "      <th>shake</th>\n",
       "      <th>location_1</th>\n",
       "      <th>location_2</th>\n",
       "      <th>location_3</th>\n",
       "      <th>location_4</th>\n",
       "      <th>location_5</th>\n",
       "      <th>location_6</th>\n",
       "      <th>location_7</th>\n",
       "      <th>location_8</th>\n",
       "      <th>location_9</th>\n",
       "      <th>Day of Week_Weekday</th>\n",
       "      <th>Day of Week_Weekend</th>\n",
       "      <th>Meal_Dinner</th>\n",
       "      <th>Meal_Late Night</th>\n",
       "      <th>Meal_Lunch</th>\n",
       "      <th>Cluster</th>\n",
       "      <th>ticket_id</th>\n",
       "    </tr>\n",
       "  </thead>\n",
       "  <tbody>\n",
       "    <tr>\n",
       "      <th>0</th>\n",
       "      <td>2.0</td>\n",
       "      <td>2.0</td>\n",
       "      <td>0.0</td>\n",
       "      <td>2.0</td>\n",
       "      <td>0</td>\n",
       "      <td>0</td>\n",
       "      <td>0</td>\n",
       "      <td>0</td>\n",
       "      <td>0</td>\n",
       "      <td>0</td>\n",
       "      <td>1</td>\n",
       "      <td>0</td>\n",
       "      <td>0</td>\n",
       "      <td>1</td>\n",
       "      <td>0</td>\n",
       "      <td>1</td>\n",
       "      <td>0</td>\n",
       "      <td>0</td>\n",
       "      <td>0</td>\n",
       "      <td>0x7901ee</td>\n",
       "    </tr>\n",
       "    <tr>\n",
       "      <th>1</th>\n",
       "      <td>0.0</td>\n",
       "      <td>1.0</td>\n",
       "      <td>1.0</td>\n",
       "      <td>0.0</td>\n",
       "      <td>0</td>\n",
       "      <td>0</td>\n",
       "      <td>1</td>\n",
       "      <td>0</td>\n",
       "      <td>0</td>\n",
       "      <td>0</td>\n",
       "      <td>0</td>\n",
       "      <td>0</td>\n",
       "      <td>0</td>\n",
       "      <td>1</td>\n",
       "      <td>0</td>\n",
       "      <td>0</td>\n",
       "      <td>0</td>\n",
       "      <td>1</td>\n",
       "      <td>1</td>\n",
       "      <td>0x12b47f</td>\n",
       "    </tr>\n",
       "    <tr>\n",
       "      <th>2</th>\n",
       "      <td>2.0</td>\n",
       "      <td>2.0</td>\n",
       "      <td>0.0</td>\n",
       "      <td>0.0</td>\n",
       "      <td>0</td>\n",
       "      <td>0</td>\n",
       "      <td>0</td>\n",
       "      <td>0</td>\n",
       "      <td>0</td>\n",
       "      <td>1</td>\n",
       "      <td>0</td>\n",
       "      <td>0</td>\n",
       "      <td>0</td>\n",
       "      <td>1</td>\n",
       "      <td>0</td>\n",
       "      <td>0</td>\n",
       "      <td>1</td>\n",
       "      <td>0</td>\n",
       "      <td>2</td>\n",
       "      <td>0x6d6979</td>\n",
       "    </tr>\n",
       "    <tr>\n",
       "      <th>3</th>\n",
       "      <td>2.0</td>\n",
       "      <td>2.0</td>\n",
       "      <td>0.0</td>\n",
       "      <td>2.0</td>\n",
       "      <td>0</td>\n",
       "      <td>1</td>\n",
       "      <td>0</td>\n",
       "      <td>0</td>\n",
       "      <td>0</td>\n",
       "      <td>0</td>\n",
       "      <td>0</td>\n",
       "      <td>0</td>\n",
       "      <td>0</td>\n",
       "      <td>0</td>\n",
       "      <td>1</td>\n",
       "      <td>0</td>\n",
       "      <td>1</td>\n",
       "      <td>0</td>\n",
       "      <td>2</td>\n",
       "      <td>0x78dd1e</td>\n",
       "    </tr>\n",
       "    <tr>\n",
       "      <th>4</th>\n",
       "      <td>0.0</td>\n",
       "      <td>3.0</td>\n",
       "      <td>3.0</td>\n",
       "      <td>0.0</td>\n",
       "      <td>0</td>\n",
       "      <td>0</td>\n",
       "      <td>0</td>\n",
       "      <td>0</td>\n",
       "      <td>0</td>\n",
       "      <td>0</td>\n",
       "      <td>0</td>\n",
       "      <td>1</td>\n",
       "      <td>0</td>\n",
       "      <td>1</td>\n",
       "      <td>0</td>\n",
       "      <td>0</td>\n",
       "      <td>0</td>\n",
       "      <td>1</td>\n",
       "      <td>1</td>\n",
       "      <td>0x4df8ab</td>\n",
       "    </tr>\n",
       "  </tbody>\n",
       "</table>\n",
       "</div>"
      ],
      "text/plain": [
       "   burger  fries  salad  shake  location_1  location_2  location_3  \\\n",
       "0     2.0    2.0    0.0    2.0           0           0           0   \n",
       "1     0.0    1.0    1.0    0.0           0           0           1   \n",
       "2     2.0    2.0    0.0    0.0           0           0           0   \n",
       "3     2.0    2.0    0.0    2.0           0           1           0   \n",
       "4     0.0    3.0    3.0    0.0           0           0           0   \n",
       "\n",
       "   location_4  location_5  location_6  location_7  location_8  location_9  \\\n",
       "0           0           0           0           1           0           0   \n",
       "1           0           0           0           0           0           0   \n",
       "2           0           0           1           0           0           0   \n",
       "3           0           0           0           0           0           0   \n",
       "4           0           0           0           0           1           0   \n",
       "\n",
       "   Day of Week_Weekday  Day of Week_Weekend  Meal_Dinner  Meal_Late Night  \\\n",
       "0                    1                    0            1                0   \n",
       "1                    1                    0            0                0   \n",
       "2                    1                    0            0                1   \n",
       "3                    0                    1            0                1   \n",
       "4                    1                    0            0                0   \n",
       "\n",
       "   Meal_Lunch  Cluster ticket_id  \n",
       "0           0        0  0x7901ee  \n",
       "1           1        1  0x12b47f  \n",
       "2           0        2  0x6d6979  \n",
       "3           0        2  0x78dd1e  \n",
       "4           1        1  0x4df8ab  "
      ]
     },
     "execution_count": 55,
     "metadata": {},
     "output_type": "execute_result"
    }
   ],
   "source": [
    "df_new.head()"
   ]
  },
  {
   "cell_type": "code",
   "execution_count": null,
   "metadata": {},
   "outputs": [],
   "source": []
  }
 ],
 "metadata": {
  "kernelspec": {
   "display_name": "local-venv",
   "language": "python",
   "name": "local-venv"
  },
  "language_info": {
   "codemirror_mode": {
    "name": "ipython",
    "version": 3
   },
   "file_extension": ".py",
   "mimetype": "text/x-python",
   "name": "python",
   "nbconvert_exporter": "python",
   "pygments_lexer": "ipython3",
   "version": "3.7.4"
  }
 },
 "nbformat": 4,
 "nbformat_minor": 4
}
